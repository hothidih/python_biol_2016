{
 "cells": [
  {
   "cell_type": "markdown",
   "metadata": {},
   "source": [
    "# Pistucha pika (*Ochotona princeps*)"
   ]
  },
  {
   "cell_type": "markdown",
   "metadata": {},
   "source": [
    "### Ho Dieu Hien"
   ]
  },
  {
   "cell_type": "markdown",
   "metadata": {},
   "source": [
    "![](https://cdn0.vox-cdn.com/thumbor/D2Tt1qqWwH7m7Bb6NeKlZaqP-Ig=/0x93:1773x1090/1600x900/cdn0.vox-cdn.com/uploads/chorus_image/image/48998709/pika_pikachu.0.0.jpg)"
   ]
  },
  {
   "cell_type": "markdown",
   "metadata": {},
   "source": [
    "## Obecne informace\n",
    "**Vyskyt**: Horske oblasti (skalni sute kolem alpinskych luk) na zapade Severni Ameriky \n",
    "\n",
    "Pistucha pika (*Ochotona princeps*) je denni bylozravy savec. Hnizdo si buduje v prostoru pod kameny, nehrabe si nory. Neupada do zimniho spanku - dela si velke zasoby rostlin na zimu - umi si vybrat nutricne bohatou potravu s vysokym obsahem vody. Dokonce umi rozlisit \"datum spotreby\" a podle toho skladuje sve jidlo.\n",
    "\n",
    "Kazda pika ma svoje hnizdo, sve teritorium si chrani - jednotliva uzemi se ale mohou prekryvat. Ke komunikaci pouzivaji zvukove signaly - kratkymi hvizdy se navzajem varuji pred predatory. V dobe pareni se samec ozyva dlouhym zpevnym volanim.\n",
    "\n",
    "Piky obyvaji chladnejsi oblasti ve vyssich nadmorskych vyskach - globalni oteplovani \n",
    "Protoze ziji ve vyssich (a studenejsich) nadmorskych vyskach, jsou velmi citlivi vuci vyssim teplotam - pravdepodobne detekuji projevy globalniho oteplovani v zapadnim USA presouvanim sveho habitatu do jeste vyssich oblasti.\n",
    "\n",
    "**Zdroje**:\n",
    "http://www.stoplusjednicka.cz/americka-pistucha-pika-pilni-sberac-sena  \n",
    "https://en.wikipedia.org/wiki/American_pika  \n",
    "http://www.chovzvirat.cz/zvire/3062-pika/\n"
   ]
  },
  {
   "cell_type": "markdown",
   "metadata": {},
   "source": [
    "## Predpriprava analyzy"
   ]
  },
  {
   "cell_type": "code",
   "execution_count": 1,
   "metadata": {
    "collapsed": false
   },
   "outputs": [],
   "source": [
    "!cat Ochotona_princeps.pika.86.gtf | grep -E \"\\s+gene\\s+\" > Ochotona_princeps.pika.86_gene.gtf"
   ]
  },
  {
   "cell_type": "code",
   "execution_count": 2,
   "metadata": {
    "collapsed": false
   },
   "outputs": [],
   "source": [
    "!cat Ochotona_princeps.pika.86.gtf | grep -E \"\\s+transcript\\s+\" > Ochotona_princeps.pika.86_transcript.gtf"
   ]
  },
  {
   "cell_type": "code",
   "execution_count": 3,
   "metadata": {
    "collapsed": true
   },
   "outputs": [],
   "source": [
    "!cat Ochotona_princeps.pika.86.gtf | grep -E \"\\s+exon\\s+\" > Ochotona_princeps.pika.86_exon.gtf"
   ]
  },
  {
   "cell_type": "code",
   "execution_count": 4,
   "metadata": {
    "collapsed": true
   },
   "outputs": [],
   "source": [
    "!cat Ochotona_princeps.pika.86.gtf | grep -E \"\\s+CDS\\s+\" > Ochotona_princeps.pika.86_CDS.gtf"
   ]
  },
  {
   "cell_type": "code",
   "execution_count": 5,
   "metadata": {
    "collapsed": false
   },
   "outputs": [],
   "source": [
    "import pandas as pd\n",
    "import numpy as np\n",
    "import matplotlib as plt\n",
    "import pylab as pl\n",
    "import re"
   ]
  },
  {
   "cell_type": "code",
   "execution_count": 6,
   "metadata": {
    "collapsed": false
   },
   "outputs": [],
   "source": [
    "gene=pd.read_table('/home/ja/Downloads/Ochotona_princeps.pika.86_gene.gtf', header=None, dtype={0:np.object})"
   ]
  },
  {
   "cell_type": "code",
   "execution_count": 7,
   "metadata": {
    "collapsed": false
   },
   "outputs": [],
   "source": [
    "transcript=pd.read_table('/home/ja/Downloads/Ochotona_princeps.pika.86_transcript.gtf', header=None, dtype={0:np.object})"
   ]
  },
  {
   "cell_type": "code",
   "execution_count": 8,
   "metadata": {
    "collapsed": true
   },
   "outputs": [],
   "source": [
    "exon=pd.read_table('/home/ja/Downloads/Ochotona_princeps.pika.86_exon.gtf', header=None, dtype={0:np.object})"
   ]
  },
  {
   "cell_type": "code",
   "execution_count": 9,
   "metadata": {
    "collapsed": true
   },
   "outputs": [],
   "source": [
    "CDS=pd.read_table('/home/ja/Downloads/Ochotona_princeps.pika.86_CDS.gtf', header=None, dtype={0:np.object})"
   ]
  },
  {
   "cell_type": "code",
   "execution_count": 10,
   "metadata": {
    "collapsed": false
   },
   "outputs": [],
   "source": [
    "gene.columns = [\"seqname\", \"source\", \"feature\", \"start\", \"end\", \"score\", \"strand\", \"frame\", \"attribute\"]\n",
    "transcript.columns = [\"seqname\", \"source\", \"feature\", \"start\", \"end\", \"score\", \"strand\", \"frame\", \"attribute\"]\n",
    "exon.columns = [\"seqname\", \"source\", \"feature\", \"start\", \"end\", \"score\", \"strand\", \"frame\", \"attribute\"]\n",
    "CDS.columns = [\"seqname\", \"source\", \"feature\", \"start\", \"end\", \"score\", \"strand\", \"frame\", \"attribute\"]"
   ]
  },
  {
   "cell_type": "code",
   "execution_count": 11,
   "metadata": {
    "collapsed": false
   },
   "outputs": [
    {
     "data": {
      "text/html": [
       "<div>\n",
       "<table border=\"1\" class=\"dataframe\">\n",
       "  <thead>\n",
       "    <tr style=\"text-align: right;\">\n",
       "      <th></th>\n",
       "      <th>seqname</th>\n",
       "      <th>source</th>\n",
       "      <th>feature</th>\n",
       "      <th>start</th>\n",
       "      <th>end</th>\n",
       "      <th>score</th>\n",
       "      <th>strand</th>\n",
       "      <th>frame</th>\n",
       "      <th>attribute</th>\n",
       "    </tr>\n",
       "  </thead>\n",
       "  <tbody>\n",
       "    <tr>\n",
       "      <th>0</th>\n",
       "      <td>GeneScaffold_2858</td>\n",
       "      <td>ensembl</td>\n",
       "      <td>gene</td>\n",
       "      <td>843148</td>\n",
       "      <td>843263</td>\n",
       "      <td>.</td>\n",
       "      <td>+</td>\n",
       "      <td>.</td>\n",
       "      <td>gene_id \"ENSOPRG00000020781\"; gene_version \"1\"...</td>\n",
       "    </tr>\n",
       "    <tr>\n",
       "      <th>1</th>\n",
       "      <td>GeneScaffold_2858</td>\n",
       "      <td>ensembl</td>\n",
       "      <td>gene</td>\n",
       "      <td>1115840</td>\n",
       "      <td>1116766</td>\n",
       "      <td>.</td>\n",
       "      <td>-</td>\n",
       "      <td>.</td>\n",
       "      <td>gene_id \"ENSOPRG00000013495\"; gene_version \"1\"...</td>\n",
       "    </tr>\n",
       "    <tr>\n",
       "      <th>2</th>\n",
       "      <td>GeneScaffold_2858</td>\n",
       "      <td>ensembl</td>\n",
       "      <td>gene</td>\n",
       "      <td>1123897</td>\n",
       "      <td>1125191</td>\n",
       "      <td>.</td>\n",
       "      <td>+</td>\n",
       "      <td>.</td>\n",
       "      <td>gene_id \"ENSOPRG00000013501\"; gene_version \"1\"...</td>\n",
       "    </tr>\n",
       "    <tr>\n",
       "      <th>3</th>\n",
       "      <td>GeneScaffold_2858</td>\n",
       "      <td>ensembl</td>\n",
       "      <td>gene</td>\n",
       "      <td>1129165</td>\n",
       "      <td>1186490</td>\n",
       "      <td>.</td>\n",
       "      <td>-</td>\n",
       "      <td>.</td>\n",
       "      <td>gene_id \"ENSOPRG00000013519\"; gene_version \"1\"...</td>\n",
       "    </tr>\n",
       "    <tr>\n",
       "      <th>4</th>\n",
       "      <td>GeneScaffold_2858</td>\n",
       "      <td>ensembl</td>\n",
       "      <td>gene</td>\n",
       "      <td>1142642</td>\n",
       "      <td>1142748</td>\n",
       "      <td>.</td>\n",
       "      <td>+</td>\n",
       "      <td>.</td>\n",
       "      <td>gene_id \"ENSOPRG00000020113\"; gene_version \"1\"...</td>\n",
       "    </tr>\n",
       "  </tbody>\n",
       "</table>\n",
       "</div>"
      ],
      "text/plain": [
       "             seqname   source feature    start      end score strand frame  \\\n",
       "0  GeneScaffold_2858  ensembl    gene   843148   843263     .      +     .   \n",
       "1  GeneScaffold_2858  ensembl    gene  1115840  1116766     .      -     .   \n",
       "2  GeneScaffold_2858  ensembl    gene  1123897  1125191     .      +     .   \n",
       "3  GeneScaffold_2858  ensembl    gene  1129165  1186490     .      -     .   \n",
       "4  GeneScaffold_2858  ensembl    gene  1142642  1142748     .      +     .   \n",
       "\n",
       "                                           attribute  \n",
       "0  gene_id \"ENSOPRG00000020781\"; gene_version \"1\"...  \n",
       "1  gene_id \"ENSOPRG00000013495\"; gene_version \"1\"...  \n",
       "2  gene_id \"ENSOPRG00000013501\"; gene_version \"1\"...  \n",
       "3  gene_id \"ENSOPRG00000013519\"; gene_version \"1\"...  \n",
       "4  gene_id \"ENSOPRG00000020113\"; gene_version \"1\"...  "
      ]
     },
     "execution_count": 11,
     "metadata": {},
     "output_type": "execute_result"
    }
   ],
   "source": [
    "gene.head()"
   ]
  },
  {
   "cell_type": "code",
   "execution_count": 12,
   "metadata": {
    "collapsed": false
   },
   "outputs": [
    {
     "data": {
      "text/html": [
       "<div>\n",
       "<table border=\"1\" class=\"dataframe\">\n",
       "  <thead>\n",
       "    <tr style=\"text-align: right;\">\n",
       "      <th></th>\n",
       "      <th>seqname</th>\n",
       "      <th>source</th>\n",
       "      <th>feature</th>\n",
       "      <th>start</th>\n",
       "      <th>end</th>\n",
       "      <th>score</th>\n",
       "      <th>strand</th>\n",
       "      <th>frame</th>\n",
       "      <th>attribute</th>\n",
       "    </tr>\n",
       "  </thead>\n",
       "  <tbody>\n",
       "    <tr>\n",
       "      <th>0</th>\n",
       "      <td>GeneScaffold_2858</td>\n",
       "      <td>ensembl</td>\n",
       "      <td>transcript</td>\n",
       "      <td>843148</td>\n",
       "      <td>843263</td>\n",
       "      <td>.</td>\n",
       "      <td>+</td>\n",
       "      <td>.</td>\n",
       "      <td>gene_id \"ENSOPRG00000020781\"; gene_version \"1\"...</td>\n",
       "    </tr>\n",
       "    <tr>\n",
       "      <th>1</th>\n",
       "      <td>GeneScaffold_2858</td>\n",
       "      <td>ensembl</td>\n",
       "      <td>transcript</td>\n",
       "      <td>1115840</td>\n",
       "      <td>1116766</td>\n",
       "      <td>.</td>\n",
       "      <td>-</td>\n",
       "      <td>.</td>\n",
       "      <td>gene_id \"ENSOPRG00000013495\"; gene_version \"1\"...</td>\n",
       "    </tr>\n",
       "    <tr>\n",
       "      <th>2</th>\n",
       "      <td>GeneScaffold_2858</td>\n",
       "      <td>ensembl</td>\n",
       "      <td>transcript</td>\n",
       "      <td>1123897</td>\n",
       "      <td>1125191</td>\n",
       "      <td>.</td>\n",
       "      <td>+</td>\n",
       "      <td>.</td>\n",
       "      <td>gene_id \"ENSOPRG00000013501\"; gene_version \"1\"...</td>\n",
       "    </tr>\n",
       "    <tr>\n",
       "      <th>3</th>\n",
       "      <td>GeneScaffold_2858</td>\n",
       "      <td>ensembl</td>\n",
       "      <td>transcript</td>\n",
       "      <td>1129165</td>\n",
       "      <td>1186490</td>\n",
       "      <td>.</td>\n",
       "      <td>-</td>\n",
       "      <td>.</td>\n",
       "      <td>gene_id \"ENSOPRG00000013519\"; gene_version \"1\"...</td>\n",
       "    </tr>\n",
       "    <tr>\n",
       "      <th>4</th>\n",
       "      <td>GeneScaffold_2858</td>\n",
       "      <td>ensembl</td>\n",
       "      <td>transcript</td>\n",
       "      <td>1142642</td>\n",
       "      <td>1142748</td>\n",
       "      <td>.</td>\n",
       "      <td>+</td>\n",
       "      <td>.</td>\n",
       "      <td>gene_id \"ENSOPRG00000020113\"; gene_version \"1\"...</td>\n",
       "    </tr>\n",
       "  </tbody>\n",
       "</table>\n",
       "</div>"
      ],
      "text/plain": [
       "             seqname   source     feature    start      end score strand  \\\n",
       "0  GeneScaffold_2858  ensembl  transcript   843148   843263     .      +   \n",
       "1  GeneScaffold_2858  ensembl  transcript  1115840  1116766     .      -   \n",
       "2  GeneScaffold_2858  ensembl  transcript  1123897  1125191     .      +   \n",
       "3  GeneScaffold_2858  ensembl  transcript  1129165  1186490     .      -   \n",
       "4  GeneScaffold_2858  ensembl  transcript  1142642  1142748     .      +   \n",
       "\n",
       "  frame                                          attribute  \n",
       "0     .  gene_id \"ENSOPRG00000020781\"; gene_version \"1\"...  \n",
       "1     .  gene_id \"ENSOPRG00000013495\"; gene_version \"1\"...  \n",
       "2     .  gene_id \"ENSOPRG00000013501\"; gene_version \"1\"...  \n",
       "3     .  gene_id \"ENSOPRG00000013519\"; gene_version \"1\"...  \n",
       "4     .  gene_id \"ENSOPRG00000020113\"; gene_version \"1\"...  "
      ]
     },
     "execution_count": 12,
     "metadata": {},
     "output_type": "execute_result"
    }
   ],
   "source": [
    "transcript.head()"
   ]
  },
  {
   "cell_type": "code",
   "execution_count": 13,
   "metadata": {
    "collapsed": false
   },
   "outputs": [
    {
     "data": {
      "text/plain": [
       "{'gene_biotype': 'processed_transcript',\n",
       " 'gene_id': 'ENSG00000241860',\n",
       " 'gene_name': 'RP11-34P13.13',\n",
       " 'transcript_biotype': 'antisense',\n",
       " 'transcript_id': 'ENST00000484859',\n",
       " 'transcript_name': 'RP11-34P13.13-004'}"
      ]
     },
     "execution_count": 13,
     "metadata": {},
     "output_type": "execute_result"
    }
   ],
   "source": [
    "def parse_attributes(attributes_str): \n",
    "    \"\"\"Načte obsah sloupce attribute jako `dict`.\n",
    "    \n",
    "    - Pozor, neporadí si se středníky v hodnotách a očekává uvozovky\n",
    "      kolem každé hodnoty.\n",
    "      \n",
    "      \n",
    "    Parametry:\n",
    "    \n",
    "    `attributes_str` - hodnota GTF sloupce attribute jako string\n",
    "    \"\"\"\n",
    "    ONLY_ATTRIBUTES = set([\"gene_id\", \n",
    "                          \"transcript_id\",\n",
    "                          \"gene_name\",\n",
    "                          \"gene_biotype\",\n",
    "                          \"transcript_name\",\n",
    "                          \"transcript_biotype\",\n",
    "                          \"exon_number\",\n",
    "                          \"protein_id\"])\n",
    "    \n",
    "    out = {}\n",
    "    \n",
    "    for pair in attributes_str.split(\";\"):\n",
    "        if pair.strip() == \"\":\n",
    "            continue\n",
    "        m = re.match(r\"^\\s*(.+) \\\"(.+)\\\"$\", pair)\n",
    "        \n",
    "        if m.group(1) in ONLY_ATTRIBUTES:\n",
    "            out[m.group(1)] = m.group(2)\n",
    "\n",
    "    return out\n",
    "\n",
    "\n",
    "s = \"\"\"gene_id \"ENSG00000241860\"; gene_version \"6\"; transcript_id \"ENST00000484859\"; transcript_version \"1\"; gene_name \"RP11-34P13.13\"; gene_source \"havana\"; gene_biotype \"processed_transcript\"; havana_gene \"OTTHUMG00000002480\"; havana_gene_version \"3\"; transcript_name \"RP11-34P13.13-004\"; transcript_source \"havana\"; transcript_biotype \"antisense\"; havana_transcript \"OTTHUMT00000007035\"; havana_transcript_version \"1\"; tag \"basic\"; transcript_support_level \"5\";\"\"\"\n",
    "parse_attributes(s)"
   ]
  },
  {
   "cell_type": "code",
   "execution_count": 14,
   "metadata": {
    "collapsed": false
   },
   "outputs": [],
   "source": [
    "def split_attribute_column(df):\n",
    "    \"\"\"Rozdělí sloupec `attribute` data frame GTF souboru do vlastních\n",
    "    sloupců.\n",
    "    \"\"\"\n",
    "    attributes_columns = df.attribute.apply(parse_attributes).apply(pd.Series)\n",
    "    return pd.concat([df.drop([\"attribute\"], axis=1),\n",
    "                      attributes_columns],\n",
    "                     axis=1)\n",
    "genes = split_attribute_column(gene)\n",
    "transcripts = split_attribute_column(transcript)\n",
    "exons  = split_attribute_column(exon)\n",
    "CDSs  = split_attribute_column(CDS)"
   ]
  },
  {
   "cell_type": "markdown",
   "metadata": {},
   "source": [
    "## Zakladni analyza dat - jak data vypadaji?"
   ]
  },
  {
   "cell_type": "code",
   "execution_count": 20,
   "metadata": {
    "collapsed": false
   },
   "outputs": [
    {
     "data": {
      "text/plain": [
       "pandas.core.frame.DataFrame"
      ]
     },
     "execution_count": 20,
     "metadata": {},
     "output_type": "execute_result"
    }
   ],
   "source": [
    "type(genes)"
   ]
  },
  {
   "cell_type": "code",
   "execution_count": 16,
   "metadata": {
    "collapsed": false
   },
   "outputs": [
    {
     "data": {
      "text/html": [
       "<div>\n",
       "<table border=\"1\" class=\"dataframe\">\n",
       "  <thead>\n",
       "    <tr style=\"text-align: right;\">\n",
       "      <th></th>\n",
       "      <th>seqname</th>\n",
       "      <th>source</th>\n",
       "      <th>feature</th>\n",
       "      <th>start</th>\n",
       "      <th>end</th>\n",
       "      <th>score</th>\n",
       "      <th>strand</th>\n",
       "      <th>frame</th>\n",
       "      <th>gene_biotype</th>\n",
       "      <th>gene_id</th>\n",
       "      <th>gene_name</th>\n",
       "    </tr>\n",
       "  </thead>\n",
       "  <tbody>\n",
       "    <tr>\n",
       "      <th>0</th>\n",
       "      <td>GeneScaffold_2858</td>\n",
       "      <td>ensembl</td>\n",
       "      <td>gene</td>\n",
       "      <td>843148</td>\n",
       "      <td>843263</td>\n",
       "      <td>.</td>\n",
       "      <td>+</td>\n",
       "      <td>.</td>\n",
       "      <td>rRNA</td>\n",
       "      <td>ENSOPRG00000020781</td>\n",
       "      <td>5S_rRNA</td>\n",
       "    </tr>\n",
       "    <tr>\n",
       "      <th>1</th>\n",
       "      <td>GeneScaffold_2858</td>\n",
       "      <td>ensembl</td>\n",
       "      <td>gene</td>\n",
       "      <td>1115840</td>\n",
       "      <td>1116766</td>\n",
       "      <td>.</td>\n",
       "      <td>-</td>\n",
       "      <td>.</td>\n",
       "      <td>protein_coding</td>\n",
       "      <td>ENSOPRG00000013495</td>\n",
       "      <td>ACTL7B</td>\n",
       "    </tr>\n",
       "    <tr>\n",
       "      <th>2</th>\n",
       "      <td>GeneScaffold_2858</td>\n",
       "      <td>ensembl</td>\n",
       "      <td>gene</td>\n",
       "      <td>1123897</td>\n",
       "      <td>1125191</td>\n",
       "      <td>.</td>\n",
       "      <td>+</td>\n",
       "      <td>.</td>\n",
       "      <td>pseudogene</td>\n",
       "      <td>ENSOPRG00000013501</td>\n",
       "      <td>NaN</td>\n",
       "    </tr>\n",
       "    <tr>\n",
       "      <th>3</th>\n",
       "      <td>GeneScaffold_2858</td>\n",
       "      <td>ensembl</td>\n",
       "      <td>gene</td>\n",
       "      <td>1129165</td>\n",
       "      <td>1186490</td>\n",
       "      <td>.</td>\n",
       "      <td>-</td>\n",
       "      <td>.</td>\n",
       "      <td>protein_coding</td>\n",
       "      <td>ENSOPRG00000013519</td>\n",
       "      <td>IKBKAP</td>\n",
       "    </tr>\n",
       "    <tr>\n",
       "      <th>4</th>\n",
       "      <td>GeneScaffold_2858</td>\n",
       "      <td>ensembl</td>\n",
       "      <td>gene</td>\n",
       "      <td>1142642</td>\n",
       "      <td>1142748</td>\n",
       "      <td>.</td>\n",
       "      <td>+</td>\n",
       "      <td>.</td>\n",
       "      <td>snRNA</td>\n",
       "      <td>ENSOPRG00000020113</td>\n",
       "      <td>U6</td>\n",
       "    </tr>\n",
       "  </tbody>\n",
       "</table>\n",
       "</div>"
      ],
      "text/plain": [
       "             seqname   source feature    start      end score strand frame  \\\n",
       "0  GeneScaffold_2858  ensembl    gene   843148   843263     .      +     .   \n",
       "1  GeneScaffold_2858  ensembl    gene  1115840  1116766     .      -     .   \n",
       "2  GeneScaffold_2858  ensembl    gene  1123897  1125191     .      +     .   \n",
       "3  GeneScaffold_2858  ensembl    gene  1129165  1186490     .      -     .   \n",
       "4  GeneScaffold_2858  ensembl    gene  1142642  1142748     .      +     .   \n",
       "\n",
       "     gene_biotype             gene_id gene_name  \n",
       "0            rRNA  ENSOPRG00000020781   5S_rRNA  \n",
       "1  protein_coding  ENSOPRG00000013495    ACTL7B  \n",
       "2      pseudogene  ENSOPRG00000013501       NaN  \n",
       "3  protein_coding  ENSOPRG00000013519    IKBKAP  \n",
       "4           snRNA  ENSOPRG00000020113        U6  "
      ]
     },
     "execution_count": 16,
     "metadata": {},
     "output_type": "execute_result"
    }
   ],
   "source": [
    "genes.head()"
   ]
  },
  {
   "cell_type": "code",
   "execution_count": 17,
   "metadata": {
    "collapsed": false
   },
   "outputs": [
    {
     "data": {
      "text/html": [
       "<div>\n",
       "<table border=\"1\" class=\"dataframe\">\n",
       "  <thead>\n",
       "    <tr style=\"text-align: right;\">\n",
       "      <th></th>\n",
       "      <th>seqname</th>\n",
       "      <th>source</th>\n",
       "      <th>feature</th>\n",
       "      <th>start</th>\n",
       "      <th>end</th>\n",
       "      <th>score</th>\n",
       "      <th>strand</th>\n",
       "      <th>frame</th>\n",
       "      <th>gene_biotype</th>\n",
       "      <th>gene_id</th>\n",
       "      <th>gene_name</th>\n",
       "      <th>transcript_biotype</th>\n",
       "      <th>transcript_id</th>\n",
       "      <th>transcript_name</th>\n",
       "    </tr>\n",
       "  </thead>\n",
       "  <tbody>\n",
       "    <tr>\n",
       "      <th>0</th>\n",
       "      <td>GeneScaffold_2858</td>\n",
       "      <td>ensembl</td>\n",
       "      <td>transcript</td>\n",
       "      <td>843148</td>\n",
       "      <td>843263</td>\n",
       "      <td>.</td>\n",
       "      <td>+</td>\n",
       "      <td>.</td>\n",
       "      <td>rRNA</td>\n",
       "      <td>ENSOPRG00000020781</td>\n",
       "      <td>5S_rRNA</td>\n",
       "      <td>rRNA</td>\n",
       "      <td>ENSOPRT00000020757</td>\n",
       "      <td>5S_rRNA-201</td>\n",
       "    </tr>\n",
       "    <tr>\n",
       "      <th>1</th>\n",
       "      <td>GeneScaffold_2858</td>\n",
       "      <td>ensembl</td>\n",
       "      <td>transcript</td>\n",
       "      <td>1115840</td>\n",
       "      <td>1116766</td>\n",
       "      <td>.</td>\n",
       "      <td>-</td>\n",
       "      <td>.</td>\n",
       "      <td>protein_coding</td>\n",
       "      <td>ENSOPRG00000013495</td>\n",
       "      <td>ACTL7B</td>\n",
       "      <td>protein_coding</td>\n",
       "      <td>ENSOPRT00000013481</td>\n",
       "      <td>ACTL7B-201</td>\n",
       "    </tr>\n",
       "    <tr>\n",
       "      <th>2</th>\n",
       "      <td>GeneScaffold_2858</td>\n",
       "      <td>ensembl</td>\n",
       "      <td>transcript</td>\n",
       "      <td>1123897</td>\n",
       "      <td>1125191</td>\n",
       "      <td>.</td>\n",
       "      <td>+</td>\n",
       "      <td>.</td>\n",
       "      <td>pseudogene</td>\n",
       "      <td>ENSOPRG00000013501</td>\n",
       "      <td>NaN</td>\n",
       "      <td>pseudogene</td>\n",
       "      <td>ENSOPRT00000013497</td>\n",
       "      <td>NaN</td>\n",
       "    </tr>\n",
       "    <tr>\n",
       "      <th>3</th>\n",
       "      <td>GeneScaffold_2858</td>\n",
       "      <td>ensembl</td>\n",
       "      <td>transcript</td>\n",
       "      <td>1129165</td>\n",
       "      <td>1186490</td>\n",
       "      <td>.</td>\n",
       "      <td>-</td>\n",
       "      <td>.</td>\n",
       "      <td>protein_coding</td>\n",
       "      <td>ENSOPRG00000013519</td>\n",
       "      <td>IKBKAP</td>\n",
       "      <td>protein_coding</td>\n",
       "      <td>ENSOPRT00000013558</td>\n",
       "      <td>IKBKAP-201</td>\n",
       "    </tr>\n",
       "    <tr>\n",
       "      <th>4</th>\n",
       "      <td>GeneScaffold_2858</td>\n",
       "      <td>ensembl</td>\n",
       "      <td>transcript</td>\n",
       "      <td>1142642</td>\n",
       "      <td>1142748</td>\n",
       "      <td>.</td>\n",
       "      <td>+</td>\n",
       "      <td>.</td>\n",
       "      <td>snRNA</td>\n",
       "      <td>ENSOPRG00000020113</td>\n",
       "      <td>U6</td>\n",
       "      <td>snRNA</td>\n",
       "      <td>ENSOPRT00000020089</td>\n",
       "      <td>U6-201</td>\n",
       "    </tr>\n",
       "  </tbody>\n",
       "</table>\n",
       "</div>"
      ],
      "text/plain": [
       "             seqname   source     feature    start      end score strand  \\\n",
       "0  GeneScaffold_2858  ensembl  transcript   843148   843263     .      +   \n",
       "1  GeneScaffold_2858  ensembl  transcript  1115840  1116766     .      -   \n",
       "2  GeneScaffold_2858  ensembl  transcript  1123897  1125191     .      +   \n",
       "3  GeneScaffold_2858  ensembl  transcript  1129165  1186490     .      -   \n",
       "4  GeneScaffold_2858  ensembl  transcript  1142642  1142748     .      +   \n",
       "\n",
       "  frame    gene_biotype             gene_id gene_name transcript_biotype  \\\n",
       "0     .            rRNA  ENSOPRG00000020781   5S_rRNA               rRNA   \n",
       "1     .  protein_coding  ENSOPRG00000013495    ACTL7B     protein_coding   \n",
       "2     .      pseudogene  ENSOPRG00000013501       NaN         pseudogene   \n",
       "3     .  protein_coding  ENSOPRG00000013519    IKBKAP     protein_coding   \n",
       "4     .           snRNA  ENSOPRG00000020113        U6              snRNA   \n",
       "\n",
       "        transcript_id transcript_name  \n",
       "0  ENSOPRT00000020757     5S_rRNA-201  \n",
       "1  ENSOPRT00000013481      ACTL7B-201  \n",
       "2  ENSOPRT00000013497             NaN  \n",
       "3  ENSOPRT00000013558      IKBKAP-201  \n",
       "4  ENSOPRT00000020089          U6-201  "
      ]
     },
     "execution_count": 17,
     "metadata": {},
     "output_type": "execute_result"
    }
   ],
   "source": [
    "transcripts.head()"
   ]
  },
  {
   "cell_type": "code",
   "execution_count": 18,
   "metadata": {
    "collapsed": false
   },
   "outputs": [
    {
     "data": {
      "text/html": [
       "<div>\n",
       "<table border=\"1\" class=\"dataframe\">\n",
       "  <thead>\n",
       "    <tr style=\"text-align: right;\">\n",
       "      <th></th>\n",
       "      <th>seqname</th>\n",
       "      <th>source</th>\n",
       "      <th>feature</th>\n",
       "      <th>start</th>\n",
       "      <th>end</th>\n",
       "      <th>score</th>\n",
       "      <th>strand</th>\n",
       "      <th>frame</th>\n",
       "      <th>exon_number</th>\n",
       "      <th>gene_biotype</th>\n",
       "      <th>gene_id</th>\n",
       "      <th>gene_name</th>\n",
       "      <th>transcript_biotype</th>\n",
       "      <th>transcript_id</th>\n",
       "      <th>transcript_name</th>\n",
       "    </tr>\n",
       "  </thead>\n",
       "  <tbody>\n",
       "    <tr>\n",
       "      <th>0</th>\n",
       "      <td>GeneScaffold_2858</td>\n",
       "      <td>ensembl</td>\n",
       "      <td>exon</td>\n",
       "      <td>843148</td>\n",
       "      <td>843263</td>\n",
       "      <td>.</td>\n",
       "      <td>+</td>\n",
       "      <td>.</td>\n",
       "      <td>1</td>\n",
       "      <td>rRNA</td>\n",
       "      <td>ENSOPRG00000020781</td>\n",
       "      <td>5S_rRNA</td>\n",
       "      <td>rRNA</td>\n",
       "      <td>ENSOPRT00000020757</td>\n",
       "      <td>5S_rRNA-201</td>\n",
       "    </tr>\n",
       "    <tr>\n",
       "      <th>1</th>\n",
       "      <td>GeneScaffold_2858</td>\n",
       "      <td>ensembl</td>\n",
       "      <td>exon</td>\n",
       "      <td>1115840</td>\n",
       "      <td>1116766</td>\n",
       "      <td>.</td>\n",
       "      <td>-</td>\n",
       "      <td>.</td>\n",
       "      <td>1</td>\n",
       "      <td>protein_coding</td>\n",
       "      <td>ENSOPRG00000013495</td>\n",
       "      <td>ACTL7B</td>\n",
       "      <td>protein_coding</td>\n",
       "      <td>ENSOPRT00000013481</td>\n",
       "      <td>ACTL7B-201</td>\n",
       "    </tr>\n",
       "    <tr>\n",
       "      <th>2</th>\n",
       "      <td>GeneScaffold_2858</td>\n",
       "      <td>ensembl</td>\n",
       "      <td>exon</td>\n",
       "      <td>1123897</td>\n",
       "      <td>1124147</td>\n",
       "      <td>.</td>\n",
       "      <td>+</td>\n",
       "      <td>.</td>\n",
       "      <td>1</td>\n",
       "      <td>pseudogene</td>\n",
       "      <td>ENSOPRG00000013501</td>\n",
       "      <td>NaN</td>\n",
       "      <td>pseudogene</td>\n",
       "      <td>ENSOPRT00000013497</td>\n",
       "      <td>NaN</td>\n",
       "    </tr>\n",
       "    <tr>\n",
       "      <th>3</th>\n",
       "      <td>GeneScaffold_2858</td>\n",
       "      <td>ensembl</td>\n",
       "      <td>exon</td>\n",
       "      <td>1124149</td>\n",
       "      <td>1124219</td>\n",
       "      <td>.</td>\n",
       "      <td>+</td>\n",
       "      <td>.</td>\n",
       "      <td>2</td>\n",
       "      <td>pseudogene</td>\n",
       "      <td>ENSOPRG00000013501</td>\n",
       "      <td>NaN</td>\n",
       "      <td>pseudogene</td>\n",
       "      <td>ENSOPRT00000013497</td>\n",
       "      <td>NaN</td>\n",
       "    </tr>\n",
       "    <tr>\n",
       "      <th>4</th>\n",
       "      <td>GeneScaffold_2858</td>\n",
       "      <td>ensembl</td>\n",
       "      <td>exon</td>\n",
       "      <td>1124221</td>\n",
       "      <td>1124226</td>\n",
       "      <td>.</td>\n",
       "      <td>+</td>\n",
       "      <td>.</td>\n",
       "      <td>3</td>\n",
       "      <td>pseudogene</td>\n",
       "      <td>ENSOPRG00000013501</td>\n",
       "      <td>NaN</td>\n",
       "      <td>pseudogene</td>\n",
       "      <td>ENSOPRT00000013497</td>\n",
       "      <td>NaN</td>\n",
       "    </tr>\n",
       "  </tbody>\n",
       "</table>\n",
       "</div>"
      ],
      "text/plain": [
       "             seqname   source feature    start      end score strand frame  \\\n",
       "0  GeneScaffold_2858  ensembl    exon   843148   843263     .      +     .   \n",
       "1  GeneScaffold_2858  ensembl    exon  1115840  1116766     .      -     .   \n",
       "2  GeneScaffold_2858  ensembl    exon  1123897  1124147     .      +     .   \n",
       "3  GeneScaffold_2858  ensembl    exon  1124149  1124219     .      +     .   \n",
       "4  GeneScaffold_2858  ensembl    exon  1124221  1124226     .      +     .   \n",
       "\n",
       "  exon_number    gene_biotype             gene_id gene_name  \\\n",
       "0           1            rRNA  ENSOPRG00000020781   5S_rRNA   \n",
       "1           1  protein_coding  ENSOPRG00000013495    ACTL7B   \n",
       "2           1      pseudogene  ENSOPRG00000013501       NaN   \n",
       "3           2      pseudogene  ENSOPRG00000013501       NaN   \n",
       "4           3      pseudogene  ENSOPRG00000013501       NaN   \n",
       "\n",
       "  transcript_biotype       transcript_id transcript_name  \n",
       "0               rRNA  ENSOPRT00000020757     5S_rRNA-201  \n",
       "1     protein_coding  ENSOPRT00000013481      ACTL7B-201  \n",
       "2         pseudogene  ENSOPRT00000013497             NaN  \n",
       "3         pseudogene  ENSOPRT00000013497             NaN  \n",
       "4         pseudogene  ENSOPRT00000013497             NaN  "
      ]
     },
     "execution_count": 18,
     "metadata": {},
     "output_type": "execute_result"
    }
   ],
   "source": [
    "exons.head()"
   ]
  },
  {
   "cell_type": "code",
   "execution_count": 19,
   "metadata": {
    "collapsed": false
   },
   "outputs": [
    {
     "data": {
      "text/html": [
       "<div>\n",
       "<table border=\"1\" class=\"dataframe\">\n",
       "  <thead>\n",
       "    <tr style=\"text-align: right;\">\n",
       "      <th></th>\n",
       "      <th>seqname</th>\n",
       "      <th>source</th>\n",
       "      <th>feature</th>\n",
       "      <th>start</th>\n",
       "      <th>end</th>\n",
       "      <th>score</th>\n",
       "      <th>strand</th>\n",
       "      <th>frame</th>\n",
       "      <th>exon_number</th>\n",
       "      <th>gene_biotype</th>\n",
       "      <th>gene_id</th>\n",
       "      <th>gene_name</th>\n",
       "      <th>protein_id</th>\n",
       "      <th>transcript_biotype</th>\n",
       "      <th>transcript_id</th>\n",
       "      <th>transcript_name</th>\n",
       "    </tr>\n",
       "  </thead>\n",
       "  <tbody>\n",
       "    <tr>\n",
       "      <th>0</th>\n",
       "      <td>GeneScaffold_2858</td>\n",
       "      <td>ensembl</td>\n",
       "      <td>CDS</td>\n",
       "      <td>1115843</td>\n",
       "      <td>1116766</td>\n",
       "      <td>.</td>\n",
       "      <td>-</td>\n",
       "      <td>0</td>\n",
       "      <td>1</td>\n",
       "      <td>protein_coding</td>\n",
       "      <td>ENSOPRG00000013495</td>\n",
       "      <td>ACTL7B</td>\n",
       "      <td>ENSOPRP00000012304</td>\n",
       "      <td>protein_coding</td>\n",
       "      <td>ENSOPRT00000013481</td>\n",
       "      <td>ACTL7B-201</td>\n",
       "    </tr>\n",
       "    <tr>\n",
       "      <th>1</th>\n",
       "      <td>GeneScaffold_2858</td>\n",
       "      <td>ensembl</td>\n",
       "      <td>CDS</td>\n",
       "      <td>1186437</td>\n",
       "      <td>1186490</td>\n",
       "      <td>.</td>\n",
       "      <td>-</td>\n",
       "      <td>0</td>\n",
       "      <td>1</td>\n",
       "      <td>protein_coding</td>\n",
       "      <td>ENSOPRG00000013519</td>\n",
       "      <td>IKBKAP</td>\n",
       "      <td>ENSOPRP00000012371</td>\n",
       "      <td>protein_coding</td>\n",
       "      <td>ENSOPRT00000013558</td>\n",
       "      <td>IKBKAP-201</td>\n",
       "    </tr>\n",
       "    <tr>\n",
       "      <th>2</th>\n",
       "      <td>GeneScaffold_2858</td>\n",
       "      <td>ensembl</td>\n",
       "      <td>CDS</td>\n",
       "      <td>1185539</td>\n",
       "      <td>1185691</td>\n",
       "      <td>.</td>\n",
       "      <td>-</td>\n",
       "      <td>0</td>\n",
       "      <td>2</td>\n",
       "      <td>protein_coding</td>\n",
       "      <td>ENSOPRG00000013519</td>\n",
       "      <td>IKBKAP</td>\n",
       "      <td>ENSOPRP00000012371</td>\n",
       "      <td>protein_coding</td>\n",
       "      <td>ENSOPRT00000013558</td>\n",
       "      <td>IKBKAP-201</td>\n",
       "    </tr>\n",
       "    <tr>\n",
       "      <th>3</th>\n",
       "      <td>GeneScaffold_2858</td>\n",
       "      <td>ensembl</td>\n",
       "      <td>CDS</td>\n",
       "      <td>1184339</td>\n",
       "      <td>1184420</td>\n",
       "      <td>.</td>\n",
       "      <td>-</td>\n",
       "      <td>0</td>\n",
       "      <td>3</td>\n",
       "      <td>protein_coding</td>\n",
       "      <td>ENSOPRG00000013519</td>\n",
       "      <td>IKBKAP</td>\n",
       "      <td>ENSOPRP00000012371</td>\n",
       "      <td>protein_coding</td>\n",
       "      <td>ENSOPRT00000013558</td>\n",
       "      <td>IKBKAP-201</td>\n",
       "    </tr>\n",
       "    <tr>\n",
       "      <th>4</th>\n",
       "      <td>GeneScaffold_2858</td>\n",
       "      <td>ensembl</td>\n",
       "      <td>CDS</td>\n",
       "      <td>1182698</td>\n",
       "      <td>1182778</td>\n",
       "      <td>.</td>\n",
       "      <td>-</td>\n",
       "      <td>2</td>\n",
       "      <td>4</td>\n",
       "      <td>protein_coding</td>\n",
       "      <td>ENSOPRG00000013519</td>\n",
       "      <td>IKBKAP</td>\n",
       "      <td>ENSOPRP00000012371</td>\n",
       "      <td>protein_coding</td>\n",
       "      <td>ENSOPRT00000013558</td>\n",
       "      <td>IKBKAP-201</td>\n",
       "    </tr>\n",
       "  </tbody>\n",
       "</table>\n",
       "</div>"
      ],
      "text/plain": [
       "             seqname   source feature    start      end score strand  frame  \\\n",
       "0  GeneScaffold_2858  ensembl     CDS  1115843  1116766     .      -      0   \n",
       "1  GeneScaffold_2858  ensembl     CDS  1186437  1186490     .      -      0   \n",
       "2  GeneScaffold_2858  ensembl     CDS  1185539  1185691     .      -      0   \n",
       "3  GeneScaffold_2858  ensembl     CDS  1184339  1184420     .      -      0   \n",
       "4  GeneScaffold_2858  ensembl     CDS  1182698  1182778     .      -      2   \n",
       "\n",
       "  exon_number    gene_biotype             gene_id gene_name  \\\n",
       "0           1  protein_coding  ENSOPRG00000013495    ACTL7B   \n",
       "1           1  protein_coding  ENSOPRG00000013519    IKBKAP   \n",
       "2           2  protein_coding  ENSOPRG00000013519    IKBKAP   \n",
       "3           3  protein_coding  ENSOPRG00000013519    IKBKAP   \n",
       "4           4  protein_coding  ENSOPRG00000013519    IKBKAP   \n",
       "\n",
       "           protein_id transcript_biotype       transcript_id transcript_name  \n",
       "0  ENSOPRP00000012304     protein_coding  ENSOPRT00000013481      ACTL7B-201  \n",
       "1  ENSOPRP00000012371     protein_coding  ENSOPRT00000013558      IKBKAP-201  \n",
       "2  ENSOPRP00000012371     protein_coding  ENSOPRT00000013558      IKBKAP-201  \n",
       "3  ENSOPRP00000012371     protein_coding  ENSOPRT00000013558      IKBKAP-201  \n",
       "4  ENSOPRP00000012371     protein_coding  ENSOPRT00000013558      IKBKAP-201  "
      ]
     },
     "execution_count": 19,
     "metadata": {},
     "output_type": "execute_result"
    }
   ],
   "source": [
    "CDSs.head()"
   ]
  },
  {
   "cell_type": "code",
   "execution_count": 21,
   "metadata": {
    "collapsed": false
   },
   "outputs": [
    {
     "data": {
      "text/html": [
       "<div>\n",
       "<table border=\"1\" class=\"dataframe\">\n",
       "  <thead>\n",
       "    <tr style=\"text-align: right;\">\n",
       "      <th></th>\n",
       "      <th>seqname</th>\n",
       "      <th>source</th>\n",
       "      <th>feature</th>\n",
       "      <th>start</th>\n",
       "      <th>end</th>\n",
       "      <th>score</th>\n",
       "      <th>strand</th>\n",
       "      <th>frame</th>\n",
       "      <th>gene_biotype</th>\n",
       "      <th>gene_id</th>\n",
       "      <th>gene_name</th>\n",
       "    </tr>\n",
       "  </thead>\n",
       "  <tbody>\n",
       "    <tr>\n",
       "      <th>23060</th>\n",
       "      <td>scaffold_186150</td>\n",
       "      <td>ensembl</td>\n",
       "      <td>gene</td>\n",
       "      <td>509</td>\n",
       "      <td>569</td>\n",
       "      <td>.</td>\n",
       "      <td>+</td>\n",
       "      <td>.</td>\n",
       "      <td>miRNA</td>\n",
       "      <td>ENSOPRG00000022541</td>\n",
       "      <td>NaN</td>\n",
       "    </tr>\n",
       "    <tr>\n",
       "      <th>23061</th>\n",
       "      <td>scaffold_186207</td>\n",
       "      <td>ensembl</td>\n",
       "      <td>gene</td>\n",
       "      <td>378</td>\n",
       "      <td>451</td>\n",
       "      <td>.</td>\n",
       "      <td>+</td>\n",
       "      <td>.</td>\n",
       "      <td>miRNA</td>\n",
       "      <td>ENSOPRG00000018233</td>\n",
       "      <td>NaN</td>\n",
       "    </tr>\n",
       "    <tr>\n",
       "      <th>23062</th>\n",
       "      <td>scaffold_186697</td>\n",
       "      <td>ensembl</td>\n",
       "      <td>gene</td>\n",
       "      <td>127</td>\n",
       "      <td>203</td>\n",
       "      <td>.</td>\n",
       "      <td>-</td>\n",
       "      <td>.</td>\n",
       "      <td>misc_RNA</td>\n",
       "      <td>ENSOPRG00000020669</td>\n",
       "      <td>CPEB3_ribozyme</td>\n",
       "    </tr>\n",
       "    <tr>\n",
       "      <th>23063</th>\n",
       "      <td>scaffold_187065</td>\n",
       "      <td>ensembl</td>\n",
       "      <td>gene</td>\n",
       "      <td>83</td>\n",
       "      <td>154</td>\n",
       "      <td>.</td>\n",
       "      <td>-</td>\n",
       "      <td>.</td>\n",
       "      <td>miRNA</td>\n",
       "      <td>ENSOPRG00000021213</td>\n",
       "      <td>NaN</td>\n",
       "    </tr>\n",
       "    <tr>\n",
       "      <th>23064</th>\n",
       "      <td>scaffold_187159</td>\n",
       "      <td>ensembl</td>\n",
       "      <td>gene</td>\n",
       "      <td>569</td>\n",
       "      <td>655</td>\n",
       "      <td>.</td>\n",
       "      <td>-</td>\n",
       "      <td>.</td>\n",
       "      <td>miRNA</td>\n",
       "      <td>ENSOPRG00000023826</td>\n",
       "      <td>NaN</td>\n",
       "    </tr>\n",
       "  </tbody>\n",
       "</table>\n",
       "</div>"
      ],
      "text/plain": [
       "               seqname   source feature  start  end score strand frame  \\\n",
       "23060  scaffold_186150  ensembl    gene    509  569     .      +     .   \n",
       "23061  scaffold_186207  ensembl    gene    378  451     .      +     .   \n",
       "23062  scaffold_186697  ensembl    gene    127  203     .      -     .   \n",
       "23063  scaffold_187065  ensembl    gene     83  154     .      -     .   \n",
       "23064  scaffold_187159  ensembl    gene    569  655     .      -     .   \n",
       "\n",
       "      gene_biotype             gene_id       gene_name  \n",
       "23060        miRNA  ENSOPRG00000022541             NaN  \n",
       "23061        miRNA  ENSOPRG00000018233             NaN  \n",
       "23062     misc_RNA  ENSOPRG00000020669  CPEB3_ribozyme  \n",
       "23063        miRNA  ENSOPRG00000021213             NaN  \n",
       "23064        miRNA  ENSOPRG00000023826             NaN  "
      ]
     },
     "execution_count": 21,
     "metadata": {},
     "output_type": "execute_result"
    }
   ],
   "source": [
    "genes.tail()"
   ]
  },
  {
   "cell_type": "code",
   "execution_count": 22,
   "metadata": {
    "collapsed": false
   },
   "outputs": [
    {
     "data": {
      "text/html": [
       "<div>\n",
       "<table border=\"1\" class=\"dataframe\">\n",
       "  <thead>\n",
       "    <tr style=\"text-align: right;\">\n",
       "      <th></th>\n",
       "      <th>seqname</th>\n",
       "      <th>source</th>\n",
       "      <th>feature</th>\n",
       "      <th>start</th>\n",
       "      <th>end</th>\n",
       "      <th>score</th>\n",
       "      <th>strand</th>\n",
       "      <th>frame</th>\n",
       "      <th>gene_biotype</th>\n",
       "      <th>gene_id</th>\n",
       "      <th>gene_name</th>\n",
       "      <th>transcript_biotype</th>\n",
       "      <th>transcript_id</th>\n",
       "      <th>transcript_name</th>\n",
       "    </tr>\n",
       "  </thead>\n",
       "  <tbody>\n",
       "    <tr>\n",
       "      <th>23060</th>\n",
       "      <td>scaffold_186150</td>\n",
       "      <td>ensembl</td>\n",
       "      <td>transcript</td>\n",
       "      <td>509</td>\n",
       "      <td>569</td>\n",
       "      <td>.</td>\n",
       "      <td>+</td>\n",
       "      <td>.</td>\n",
       "      <td>miRNA</td>\n",
       "      <td>ENSOPRG00000022541</td>\n",
       "      <td>NaN</td>\n",
       "      <td>miRNA</td>\n",
       "      <td>ENSOPRT00000022517</td>\n",
       "      <td>NaN</td>\n",
       "    </tr>\n",
       "    <tr>\n",
       "      <th>23061</th>\n",
       "      <td>scaffold_186207</td>\n",
       "      <td>ensembl</td>\n",
       "      <td>transcript</td>\n",
       "      <td>378</td>\n",
       "      <td>451</td>\n",
       "      <td>.</td>\n",
       "      <td>+</td>\n",
       "      <td>.</td>\n",
       "      <td>miRNA</td>\n",
       "      <td>ENSOPRG00000018233</td>\n",
       "      <td>NaN</td>\n",
       "      <td>miRNA</td>\n",
       "      <td>ENSOPRT00000018227</td>\n",
       "      <td>NaN</td>\n",
       "    </tr>\n",
       "    <tr>\n",
       "      <th>23062</th>\n",
       "      <td>scaffold_186697</td>\n",
       "      <td>ensembl</td>\n",
       "      <td>transcript</td>\n",
       "      <td>127</td>\n",
       "      <td>203</td>\n",
       "      <td>.</td>\n",
       "      <td>-</td>\n",
       "      <td>.</td>\n",
       "      <td>misc_RNA</td>\n",
       "      <td>ENSOPRG00000020669</td>\n",
       "      <td>CPEB3_ribozyme</td>\n",
       "      <td>misc_RNA</td>\n",
       "      <td>ENSOPRT00000020645</td>\n",
       "      <td>CPEB3_ribozyme-201</td>\n",
       "    </tr>\n",
       "    <tr>\n",
       "      <th>23063</th>\n",
       "      <td>scaffold_187065</td>\n",
       "      <td>ensembl</td>\n",
       "      <td>transcript</td>\n",
       "      <td>83</td>\n",
       "      <td>154</td>\n",
       "      <td>.</td>\n",
       "      <td>-</td>\n",
       "      <td>.</td>\n",
       "      <td>miRNA</td>\n",
       "      <td>ENSOPRG00000021213</td>\n",
       "      <td>NaN</td>\n",
       "      <td>miRNA</td>\n",
       "      <td>ENSOPRT00000021189</td>\n",
       "      <td>NaN</td>\n",
       "    </tr>\n",
       "    <tr>\n",
       "      <th>23064</th>\n",
       "      <td>scaffold_187159</td>\n",
       "      <td>ensembl</td>\n",
       "      <td>transcript</td>\n",
       "      <td>569</td>\n",
       "      <td>655</td>\n",
       "      <td>.</td>\n",
       "      <td>-</td>\n",
       "      <td>.</td>\n",
       "      <td>miRNA</td>\n",
       "      <td>ENSOPRG00000023826</td>\n",
       "      <td>NaN</td>\n",
       "      <td>miRNA</td>\n",
       "      <td>ENSOPRT00000023802</td>\n",
       "      <td>NaN</td>\n",
       "    </tr>\n",
       "  </tbody>\n",
       "</table>\n",
       "</div>"
      ],
      "text/plain": [
       "               seqname   source     feature  start  end score strand frame  \\\n",
       "23060  scaffold_186150  ensembl  transcript    509  569     .      +     .   \n",
       "23061  scaffold_186207  ensembl  transcript    378  451     .      +     .   \n",
       "23062  scaffold_186697  ensembl  transcript    127  203     .      -     .   \n",
       "23063  scaffold_187065  ensembl  transcript     83  154     .      -     .   \n",
       "23064  scaffold_187159  ensembl  transcript    569  655     .      -     .   \n",
       "\n",
       "      gene_biotype             gene_id       gene_name transcript_biotype  \\\n",
       "23060        miRNA  ENSOPRG00000022541             NaN              miRNA   \n",
       "23061        miRNA  ENSOPRG00000018233             NaN              miRNA   \n",
       "23062     misc_RNA  ENSOPRG00000020669  CPEB3_ribozyme           misc_RNA   \n",
       "23063        miRNA  ENSOPRG00000021213             NaN              miRNA   \n",
       "23064        miRNA  ENSOPRG00000023826             NaN              miRNA   \n",
       "\n",
       "            transcript_id     transcript_name  \n",
       "23060  ENSOPRT00000022517                 NaN  \n",
       "23061  ENSOPRT00000018227                 NaN  \n",
       "23062  ENSOPRT00000020645  CPEB3_ribozyme-201  \n",
       "23063  ENSOPRT00000021189                 NaN  \n",
       "23064  ENSOPRT00000023802                 NaN  "
      ]
     },
     "execution_count": 22,
     "metadata": {},
     "output_type": "execute_result"
    }
   ],
   "source": [
    "transcripts.tail()"
   ]
  },
  {
   "cell_type": "code",
   "execution_count": 23,
   "metadata": {
    "collapsed": false
   },
   "outputs": [
    {
     "data": {
      "text/plain": [
       "(23065, 11)"
      ]
     },
     "execution_count": 23,
     "metadata": {},
     "output_type": "execute_result"
    }
   ],
   "source": [
    "genes.shape"
   ]
  },
  {
   "cell_type": "code",
   "execution_count": 24,
   "metadata": {
    "collapsed": false
   },
   "outputs": [
    {
     "data": {
      "text/plain": [
       "(23065, 14)"
      ]
     },
     "execution_count": 24,
     "metadata": {},
     "output_type": "execute_result"
    }
   ],
   "source": [
    "transcripts.shape"
   ]
  },
  {
   "cell_type": "markdown",
   "metadata": {},
   "source": [
    "### Jake datove typy data frames obsahuji?"
   ]
  },
  {
   "cell_type": "code",
   "execution_count": 25,
   "metadata": {
    "collapsed": false
   },
   "outputs": [
    {
     "data": {
      "text/plain": [
       "seqname         object\n",
       "source          object\n",
       "feature         object\n",
       "start            int64\n",
       "end              int64\n",
       "score           object\n",
       "strand          object\n",
       "frame           object\n",
       "gene_biotype    object\n",
       "gene_id         object\n",
       "gene_name       object\n",
       "dtype: object"
      ]
     },
     "execution_count": 25,
     "metadata": {},
     "output_type": "execute_result"
    }
   ],
   "source": [
    "genes.dtypes"
   ]
  },
  {
   "cell_type": "code",
   "execution_count": 26,
   "metadata": {
    "collapsed": false
   },
   "outputs": [
    {
     "data": {
      "text/plain": [
       "seqname               object\n",
       "source                object\n",
       "feature               object\n",
       "start                  int64\n",
       "end                    int64\n",
       "score                 object\n",
       "strand                object\n",
       "frame                 object\n",
       "gene_biotype          object\n",
       "gene_id               object\n",
       "gene_name             object\n",
       "transcript_biotype    object\n",
       "transcript_id         object\n",
       "transcript_name       object\n",
       "dtype: object"
      ]
     },
     "execution_count": 26,
     "metadata": {},
     "output_type": "execute_result"
    }
   ],
   "source": [
    "transcripts.dtypes"
   ]
  },
  {
   "cell_type": "markdown",
   "metadata": {},
   "source": [
    "### Ktere geny a transkripty jsou nejpocetnejsi?\n"
   ]
  },
  {
   "cell_type": "code",
   "execution_count": 27,
   "metadata": {
    "collapsed": false
   },
   "outputs": [
    {
     "data": {
      "text/plain": [
       "U6          1479\n",
       "5S_rRNA      907\n",
       "SNORA74      589\n",
       "7SK          351\n",
       "U1           177\n",
       "U2           133\n",
       "U4           123\n",
       "snoU13        73\n",
       "SNORD115      64\n",
       "U3            41\n",
       "Name: gene_name, dtype: int64"
      ]
     },
     "execution_count": 27,
     "metadata": {},
     "output_type": "execute_result"
    }
   ],
   "source": [
    "genes[\"gene_name\"].value_counts().head(10)"
   ]
  },
  {
   "cell_type": "code",
   "execution_count": 28,
   "metadata": {
    "collapsed": false
   },
   "outputs": [
    {
     "data": {
      "text/plain": [
       "U6-201          1479\n",
       "5S_rRNA-201      907\n",
       "SNORA74-201      589\n",
       "7SK-201          351\n",
       "U1-201           177\n",
       "U2-201           133\n",
       "U4-201           123\n",
       "snoU13-201        73\n",
       "SNORD115-201      64\n",
       "U3-201            41\n",
       "Name: transcript_name, dtype: int64"
      ]
     },
     "execution_count": 28,
     "metadata": {},
     "output_type": "execute_result"
    }
   ],
   "source": [
    "transcripts[\"transcript_name\"].value_counts().head(10)"
   ]
  },
  {
   "cell_type": "markdown",
   "metadata": {},
   "source": [
    "### Biotypy"
   ]
  },
  {
   "cell_type": "code",
   "execution_count": 29,
   "metadata": {
    "collapsed": false
   },
   "outputs": [
    {
     "data": {
      "text/plain": [
       "array(['rRNA', 'protein_coding', 'pseudogene', 'snRNA', 'miRNA', 'snoRNA',\n",
       "       'misc_RNA', 'Mt_tRNA', 'Mt_rRNA'], dtype=object)"
      ]
     },
     "execution_count": 29,
     "metadata": {},
     "output_type": "execute_result"
    }
   ],
   "source": [
    "genes[\"gene_biotype\"].unique()\n"
   ]
  },
  {
   "cell_type": "code",
   "execution_count": 30,
   "metadata": {
    "collapsed": false
   },
   "outputs": [
    {
     "data": {
      "text/plain": [
       "array(['rRNA', 'protein_coding', 'pseudogene', 'snRNA', 'miRNA', 'snoRNA',\n",
       "       'misc_RNA', 'Mt_tRNA', 'Mt_rRNA'], dtype=object)"
      ]
     },
     "execution_count": 30,
     "metadata": {},
     "output_type": "execute_result"
    }
   ],
   "source": [
    "transcripts[\"transcript_biotype\"].unique()"
   ]
  },
  {
   "cell_type": "code",
   "execution_count": 31,
   "metadata": {
    "collapsed": false
   },
   "outputs": [
    {
     "data": {
      "text/plain": [
       "protein_coding    16006\n",
       "snRNA              2008\n",
       "snoRNA             1612\n",
       "pseudogene         1327\n",
       "rRNA                922\n",
       "miRNA               773\n",
       "misc_RNA            393\n",
       "Mt_tRNA              22\n",
       "Mt_rRNA               2\n",
       "Name: gene_biotype, dtype: int64"
      ]
     },
     "execution_count": 31,
     "metadata": {},
     "output_type": "execute_result"
    }
   ],
   "source": [
    "genes[\"gene_biotype\"].value_counts()"
   ]
  },
  {
   "cell_type": "code",
   "execution_count": 32,
   "metadata": {
    "collapsed": false
   },
   "outputs": [
    {
     "data": {
      "text/plain": [
       "protein_coding    16006\n",
       "snRNA              2008\n",
       "snoRNA             1612\n",
       "pseudogene         1327\n",
       "rRNA                922\n",
       "miRNA               773\n",
       "misc_RNA            393\n",
       "Mt_tRNA              22\n",
       "Mt_rRNA               2\n",
       "Name: transcript_biotype, dtype: int64"
      ]
     },
     "execution_count": 32,
     "metadata": {},
     "output_type": "execute_result"
    }
   ],
   "source": [
    "transcripts[\"transcript_biotype\"].value_counts()"
   ]
  },
  {
   "cell_type": "code",
   "execution_count": 33,
   "metadata": {
    "collapsed": false
   },
   "outputs": [
    {
     "data": {
      "text/plain": [
       "protein_coding    16006\n",
       "snRNA              2008\n",
       "snoRNA             1612\n",
       "pseudogene         1327\n",
       "rRNA                922\n",
       "miRNA               773\n",
       "misc_RNA            393\n",
       "Mt_tRNA              22\n",
       "Mt_rRNA               2\n",
       "Name: gene_biotype, dtype: int64"
      ]
     },
     "execution_count": 33,
     "metadata": {},
     "output_type": "execute_result"
    }
   ],
   "source": [
    "biotype = genes[\"gene_biotype\"].value_counts()\n",
    "biotype"
   ]
  },
  {
   "cell_type": "markdown",
   "metadata": {},
   "source": [
    "### Cetnosti jednotlivych genovych biotypu"
   ]
  },
  {
   "cell_type": "code",
   "execution_count": 34,
   "metadata": {
    "collapsed": true
   },
   "outputs": [],
   "source": [
    "%matplotlib inline"
   ]
  },
  {
   "cell_type": "code",
   "execution_count": 35,
   "metadata": {
    "collapsed": false
   },
   "outputs": [
    {
     "data": {
      "text/plain": [
       "<matplotlib.text.Text at 0x89555f6c>"
      ]
     },
     "execution_count": 35,
     "metadata": {},
     "output_type": "execute_result"
    },
    {
     "data": {
      "image/png": "[encoded data removed]",
      "text/plain": [
       "<matplotlib.figure.Figure at 0x89557f0c>"
      ]
     },
     "metadata": {},
     "output_type": "display_data"
    }
   ],
   "source": [
    "biotype.plot(kind='bar')\n",
    "pl.suptitle(\"Cetnosti jednotlivych biotypu\")"
   ]
  },
  {
   "cell_type": "markdown",
   "metadata": {},
   "source": [
    "### Tvorba sloupce \"gene_size\""
   ]
  },
  {
   "cell_type": "code",
   "execution_count": 36,
   "metadata": {
    "collapsed": false
   },
   "outputs": [],
   "source": [
    "genes[\"gene_size\"] = genes[\"end\"]-genes[\"start\"]"
   ]
  },
  {
   "cell_type": "code",
   "execution_count": 37,
   "metadata": {
    "collapsed": true
   },
   "outputs": [],
   "source": [
    "transcripts[\"gene_size\"] = transcripts[\"end\"]-transcripts[\"start\"]"
   ]
  },
  {
   "cell_type": "code",
   "execution_count": 38,
   "metadata": {
    "collapsed": true
   },
   "outputs": [],
   "source": [
    "exons[\"gene_size\"] = exons[\"end\"]-exons[\"start\"]"
   ]
  },
  {
   "cell_type": "markdown",
   "metadata": {},
   "source": [
    "### Koduji nejake geny vice transkriptu?"
   ]
  },
  {
   "cell_type": "code",
   "execution_count": 39,
   "metadata": {
    "collapsed": false
   },
   "outputs": [
    {
     "data": {
      "text/plain": [
       "[]"
      ]
     },
     "execution_count": 39,
     "metadata": {},
     "output_type": "execute_result"
    }
   ],
   "source": [
    "genes.set_index(\"gene_id\").index.get_duplicates()"
   ]
  },
  {
   "cell_type": "code",
   "execution_count": 40,
   "metadata": {
    "collapsed": false
   },
   "outputs": [
    {
     "data": {
      "text/plain": [
       "[]"
      ]
     },
     "execution_count": 40,
     "metadata": {},
     "output_type": "execute_result"
    }
   ],
   "source": [
    "transcripts.set_index(\"transcript_id\").index.get_duplicates()"
   ]
  },
  {
   "cell_type": "code",
   "execution_count": 41,
   "metadata": {
    "collapsed": false
   },
   "outputs": [
    {
     "data": {
      "text/plain": [
       "<matplotlib.text.Text at 0x893b728c>"
      ]
     },
     "execution_count": 41,
     "metadata": {},
     "output_type": "execute_result"
    },
    {
     "data": {
      "image/png": "[encoded data removed]",
      "text/plain": [
       "<matplotlib.figure.Figure at 0x893b72ec>"
      ]
     },
     "metadata": {},
     "output_type": "display_data"
    }
   ],
   "source": [
    "transcripts[\"gene_id\"].value_counts().hist(bins=10)\n",
    "pl.suptitle(\"Pocet transkiptu na gen\")"
   ]
  },
  {
   "cell_type": "code",
   "execution_count": 42,
   "metadata": {
    "collapsed": false
   },
   "outputs": [
    {
     "data": {
      "text/html": [
       "<div>\n",
       "<table border=\"1\" class=\"dataframe\">\n",
       "  <thead>\n",
       "    <tr style=\"text-align: right;\">\n",
       "      <th></th>\n",
       "      <th>seqname</th>\n",
       "      <th>source</th>\n",
       "      <th>feature</th>\n",
       "      <th>start</th>\n",
       "      <th>end</th>\n",
       "      <th>score</th>\n",
       "      <th>strand</th>\n",
       "      <th>frame</th>\n",
       "      <th>gene_biotype</th>\n",
       "      <th>gene_id</th>\n",
       "      <th>gene_name</th>\n",
       "      <th>gene_size</th>\n",
       "    </tr>\n",
       "  </thead>\n",
       "  <tbody>\n",
       "  </tbody>\n",
       "</table>\n",
       "</div>"
      ],
      "text/plain": [
       "Empty DataFrame\n",
       "Columns: [seqname, source, feature, start, end, score, strand, frame, gene_biotype, gene_id, gene_name, gene_size]\n",
       "Index: []"
      ]
     },
     "execution_count": 42,
     "metadata": {},
     "output_type": "execute_result"
    }
   ],
   "source": [
    "genes.loc[genes[\"gene_id\"].isin(genes.set_index(\"gene_id\").index.get_duplicates())]"
   ]
  },
  {
   "cell_type": "code",
   "execution_count": 43,
   "metadata": {
    "collapsed": false
   },
   "outputs": [
    {
     "data": {
      "text/plain": [
       "0"
      ]
     },
     "execution_count": 43,
     "metadata": {},
     "output_type": "execute_result"
    }
   ],
   "source": [
    "sum(transcripts[\"gene_id\"].value_counts() > 1)"
   ]
  },
  {
   "cell_type": "markdown",
   "metadata": {},
   "source": [
    "\n",
    "\n",
    "Vypada to, ze zadny gen nekoduje vice nez jeden transkript!\n",
    "\n",
    "## Analyza \"genes\"\n"
   ]
  },
  {
   "cell_type": "code",
   "execution_count": 44,
   "metadata": {
    "collapsed": false
   },
   "outputs": [
    {
     "data": {
      "text/html": [
       "<div>\n",
       "<table border=\"1\" class=\"dataframe\">\n",
       "  <thead>\n",
       "    <tr style=\"text-align: right;\">\n",
       "      <th></th>\n",
       "      <th>seqname</th>\n",
       "      <th>source</th>\n",
       "      <th>feature</th>\n",
       "      <th>start</th>\n",
       "      <th>end</th>\n",
       "      <th>score</th>\n",
       "      <th>strand</th>\n",
       "      <th>frame</th>\n",
       "      <th>gene_biotype</th>\n",
       "      <th>gene_id</th>\n",
       "      <th>gene_name</th>\n",
       "      <th>gene_size</th>\n",
       "    </tr>\n",
       "  </thead>\n",
       "  <tbody>\n",
       "    <tr>\n",
       "      <th>524</th>\n",
       "      <td>GeneScaffold_3864</td>\n",
       "      <td>ensembl</td>\n",
       "      <td>gene</td>\n",
       "      <td>101262</td>\n",
       "      <td>1148268</td>\n",
       "      <td>.</td>\n",
       "      <td>-</td>\n",
       "      <td>.</td>\n",
       "      <td>protein_coding</td>\n",
       "      <td>ENSOPRG00000005286</td>\n",
       "      <td>LRP1B</td>\n",
       "      <td>1047006</td>\n",
       "    </tr>\n",
       "    <tr>\n",
       "      <th>751</th>\n",
       "      <td>GeneScaffold_2206</td>\n",
       "      <td>ensembl</td>\n",
       "      <td>gene</td>\n",
       "      <td>1838</td>\n",
       "      <td>1035806</td>\n",
       "      <td>.</td>\n",
       "      <td>+</td>\n",
       "      <td>.</td>\n",
       "      <td>protein_coding</td>\n",
       "      <td>ENSOPRG00000003910</td>\n",
       "      <td>CNTNAP2</td>\n",
       "      <td>1033968</td>\n",
       "    </tr>\n",
       "    <tr>\n",
       "      <th>534</th>\n",
       "      <td>GeneScaffold_116</td>\n",
       "      <td>ensembl</td>\n",
       "      <td>gene</td>\n",
       "      <td>130770</td>\n",
       "      <td>1132465</td>\n",
       "      <td>.</td>\n",
       "      <td>-</td>\n",
       "      <td>.</td>\n",
       "      <td>protein_coding</td>\n",
       "      <td>ENSOPRG00000006224</td>\n",
       "      <td>FANCL</td>\n",
       "      <td>1001695</td>\n",
       "    </tr>\n",
       "    <tr>\n",
       "      <th>128</th>\n",
       "      <td>GeneScaffold_95</td>\n",
       "      <td>ensembl</td>\n",
       "      <td>gene</td>\n",
       "      <td>475006</td>\n",
       "      <td>1449302</td>\n",
       "      <td>.</td>\n",
       "      <td>+</td>\n",
       "      <td>.</td>\n",
       "      <td>protein_coding</td>\n",
       "      <td>ENSOPRG00000008853</td>\n",
       "      <td>NRXN3</td>\n",
       "      <td>974296</td>\n",
       "    </tr>\n",
       "    <tr>\n",
       "      <th>811</th>\n",
       "      <td>GeneScaffold_4671</td>\n",
       "      <td>ensembl</td>\n",
       "      <td>gene</td>\n",
       "      <td>8071</td>\n",
       "      <td>977180</td>\n",
       "      <td>.</td>\n",
       "      <td>-</td>\n",
       "      <td>.</td>\n",
       "      <td>protein_coding</td>\n",
       "      <td>ENSOPRG00000005649</td>\n",
       "      <td>PARK2</td>\n",
       "      <td>969109</td>\n",
       "    </tr>\n",
       "    <tr>\n",
       "      <th>575</th>\n",
       "      <td>GeneScaffold_5107</td>\n",
       "      <td>ensembl</td>\n",
       "      <td>gene</td>\n",
       "      <td>127436</td>\n",
       "      <td>1088045</td>\n",
       "      <td>.</td>\n",
       "      <td>+</td>\n",
       "      <td>.</td>\n",
       "      <td>protein_coding</td>\n",
       "      <td>ENSOPRG00000009615</td>\n",
       "      <td>C10orf11</td>\n",
       "      <td>960609</td>\n",
       "    </tr>\n",
       "    <tr>\n",
       "      <th>1096</th>\n",
       "      <td>GeneScaffold_4426</td>\n",
       "      <td>ensembl</td>\n",
       "      <td>gene</td>\n",
       "      <td>16587</td>\n",
       "      <td>966187</td>\n",
       "      <td>.</td>\n",
       "      <td>-</td>\n",
       "      <td>.</td>\n",
       "      <td>protein_coding</td>\n",
       "      <td>ENSOPRG00000007523</td>\n",
       "      <td>NRXN1</td>\n",
       "      <td>949600</td>\n",
       "    </tr>\n",
       "    <tr>\n",
       "      <th>424</th>\n",
       "      <td>GeneScaffold_4324</td>\n",
       "      <td>ensembl</td>\n",
       "      <td>gene</td>\n",
       "      <td>43945</td>\n",
       "      <td>953143</td>\n",
       "      <td>.</td>\n",
       "      <td>+</td>\n",
       "      <td>.</td>\n",
       "      <td>protein_coding</td>\n",
       "      <td>ENSOPRG00000010812</td>\n",
       "      <td>PARD3B</td>\n",
       "      <td>909198</td>\n",
       "    </tr>\n",
       "    <tr>\n",
       "      <th>1168</th>\n",
       "      <td>GeneScaffold_2341</td>\n",
       "      <td>ensembl</td>\n",
       "      <td>gene</td>\n",
       "      <td>80111</td>\n",
       "      <td>972393</td>\n",
       "      <td>.</td>\n",
       "      <td>+</td>\n",
       "      <td>.</td>\n",
       "      <td>protein_coding</td>\n",
       "      <td>ENSOPRG00000000715</td>\n",
       "      <td>CNTNAP5</td>\n",
       "      <td>892282</td>\n",
       "    </tr>\n",
       "    <tr>\n",
       "      <th>37</th>\n",
       "      <td>GeneScaffold_881</td>\n",
       "      <td>ensembl</td>\n",
       "      <td>gene</td>\n",
       "      <td>977105</td>\n",
       "      <td>1865534</td>\n",
       "      <td>.</td>\n",
       "      <td>+</td>\n",
       "      <td>.</td>\n",
       "      <td>protein_coding</td>\n",
       "      <td>ENSOPRG00000016271</td>\n",
       "      <td>WWOX</td>\n",
       "      <td>888429</td>\n",
       "    </tr>\n",
       "  </tbody>\n",
       "</table>\n",
       "</div>"
      ],
      "text/plain": [
       "                seqname   source feature   start      end score strand frame  \\\n",
       "524   GeneScaffold_3864  ensembl    gene  101262  1148268     .      -     .   \n",
       "751   GeneScaffold_2206  ensembl    gene    1838  1035806     .      +     .   \n",
       "534    GeneScaffold_116  ensembl    gene  130770  1132465     .      -     .   \n",
       "128     GeneScaffold_95  ensembl    gene  475006  1449302     .      +     .   \n",
       "811   GeneScaffold_4671  ensembl    gene    8071   977180     .      -     .   \n",
       "575   GeneScaffold_5107  ensembl    gene  127436  1088045     .      +     .   \n",
       "1096  GeneScaffold_4426  ensembl    gene   16587   966187     .      -     .   \n",
       "424   GeneScaffold_4324  ensembl    gene   43945   953143     .      +     .   \n",
       "1168  GeneScaffold_2341  ensembl    gene   80111   972393     .      +     .   \n",
       "37     GeneScaffold_881  ensembl    gene  977105  1865534     .      +     .   \n",
       "\n",
       "        gene_biotype             gene_id gene_name  gene_size  \n",
       "524   protein_coding  ENSOPRG00000005286     LRP1B    1047006  \n",
       "751   protein_coding  ENSOPRG00000003910   CNTNAP2    1033968  \n",
       "534   protein_coding  ENSOPRG00000006224     FANCL    1001695  \n",
       "128   protein_coding  ENSOPRG00000008853     NRXN3     974296  \n",
       "811   protein_coding  ENSOPRG00000005649     PARK2     969109  \n",
       "575   protein_coding  ENSOPRG00000009615  C10orf11     960609  \n",
       "1096  protein_coding  ENSOPRG00000007523     NRXN1     949600  \n",
       "424   protein_coding  ENSOPRG00000010812    PARD3B     909198  \n",
       "1168  protein_coding  ENSOPRG00000000715   CNTNAP5     892282  \n",
       "37    protein_coding  ENSOPRG00000016271      WWOX     888429  "
      ]
     },
     "execution_count": 44,
     "metadata": {},
     "output_type": "execute_result"
    }
   ],
   "source": [
    "genes.sort_values([\"gene_size\"], ascending = False).head(10)"
   ]
  },
  {
   "cell_type": "code",
   "execution_count": 45,
   "metadata": {
    "collapsed": false
   },
   "outputs": [
    {
     "data": {
      "text/html": [
       "<div>\n",
       "<table border=\"1\" class=\"dataframe\">\n",
       "  <thead>\n",
       "    <tr style=\"text-align: right;\">\n",
       "      <th></th>\n",
       "      <th>seqname</th>\n",
       "      <th>source</th>\n",
       "      <th>feature</th>\n",
       "      <th>start</th>\n",
       "      <th>end</th>\n",
       "      <th>score</th>\n",
       "      <th>strand</th>\n",
       "      <th>frame</th>\n",
       "      <th>gene_biotype</th>\n",
       "      <th>gene_id</th>\n",
       "      <th>gene_name</th>\n",
       "      <th>gene_size</th>\n",
       "    </tr>\n",
       "  </thead>\n",
       "  <tbody>\n",
       "    <tr>\n",
       "      <th>22305</th>\n",
       "      <td>scaffold_54497</td>\n",
       "      <td>ensembl</td>\n",
       "      <td>gene</td>\n",
       "      <td>3310</td>\n",
       "      <td>3340</td>\n",
       "      <td>.</td>\n",
       "      <td>+</td>\n",
       "      <td>.</td>\n",
       "      <td>rRNA</td>\n",
       "      <td>ENSOPRG00000023875</td>\n",
       "      <td>5S_rRNA</td>\n",
       "      <td>30</td>\n",
       "    </tr>\n",
       "    <tr>\n",
       "      <th>7113</th>\n",
       "      <td>scaffold_531</td>\n",
       "      <td>ensembl</td>\n",
       "      <td>gene</td>\n",
       "      <td>379791</td>\n",
       "      <td>379821</td>\n",
       "      <td>.</td>\n",
       "      <td>-</td>\n",
       "      <td>.</td>\n",
       "      <td>rRNA</td>\n",
       "      <td>ENSOPRG00000023787</td>\n",
       "      <td>5S_rRNA</td>\n",
       "      <td>30</td>\n",
       "    </tr>\n",
       "    <tr>\n",
       "      <th>4871</th>\n",
       "      <td>GeneScaffold_2514</td>\n",
       "      <td>ensembl</td>\n",
       "      <td>gene</td>\n",
       "      <td>500411</td>\n",
       "      <td>500441</td>\n",
       "      <td>.</td>\n",
       "      <td>-</td>\n",
       "      <td>.</td>\n",
       "      <td>rRNA</td>\n",
       "      <td>ENSOPRG00000023763</td>\n",
       "      <td>5S_rRNA</td>\n",
       "      <td>30</td>\n",
       "    </tr>\n",
       "    <tr>\n",
       "      <th>19594</th>\n",
       "      <td>scaffold_16208</td>\n",
       "      <td>ensembl</td>\n",
       "      <td>gene</td>\n",
       "      <td>27177</td>\n",
       "      <td>27205</td>\n",
       "      <td>.</td>\n",
       "      <td>+</td>\n",
       "      <td>.</td>\n",
       "      <td>rRNA</td>\n",
       "      <td>ENSOPRG00000023013</td>\n",
       "      <td>5S_rRNA</td>\n",
       "      <td>28</td>\n",
       "    </tr>\n",
       "    <tr>\n",
       "      <th>16168</th>\n",
       "      <td>scaffold_4952</td>\n",
       "      <td>ensembl</td>\n",
       "      <td>gene</td>\n",
       "      <td>84231</td>\n",
       "      <td>84257</td>\n",
       "      <td>.</td>\n",
       "      <td>+</td>\n",
       "      <td>.</td>\n",
       "      <td>protein_coding</td>\n",
       "      <td>ENSOPRG00000018795</td>\n",
       "      <td>NaN</td>\n",
       "      <td>26</td>\n",
       "    </tr>\n",
       "    <tr>\n",
       "      <th>6095</th>\n",
       "      <td>GeneScaffold_3947</td>\n",
       "      <td>ensembl</td>\n",
       "      <td>gene</td>\n",
       "      <td>171411</td>\n",
       "      <td>171436</td>\n",
       "      <td>.</td>\n",
       "      <td>+</td>\n",
       "      <td>.</td>\n",
       "      <td>rRNA</td>\n",
       "      <td>ENSOPRG00000023054</td>\n",
       "      <td>5S_rRNA</td>\n",
       "      <td>25</td>\n",
       "    </tr>\n",
       "    <tr>\n",
       "      <th>6286</th>\n",
       "      <td>scaffold_817</td>\n",
       "      <td>ensembl</td>\n",
       "      <td>gene</td>\n",
       "      <td>160387</td>\n",
       "      <td>160412</td>\n",
       "      <td>.</td>\n",
       "      <td>+</td>\n",
       "      <td>.</td>\n",
       "      <td>rRNA</td>\n",
       "      <td>ENSOPRG00000022737</td>\n",
       "      <td>5S_rRNA</td>\n",
       "      <td>25</td>\n",
       "    </tr>\n",
       "    <tr>\n",
       "      <th>16063</th>\n",
       "      <td>scaffold_6958</td>\n",
       "      <td>ensembl</td>\n",
       "      <td>gene</td>\n",
       "      <td>88799</td>\n",
       "      <td>88824</td>\n",
       "      <td>.</td>\n",
       "      <td>-</td>\n",
       "      <td>.</td>\n",
       "      <td>rRNA</td>\n",
       "      <td>ENSOPRG00000022588</td>\n",
       "      <td>5S_rRNA</td>\n",
       "      <td>25</td>\n",
       "    </tr>\n",
       "    <tr>\n",
       "      <th>15012</th>\n",
       "      <td>GeneScaffold_3968</td>\n",
       "      <td>ensembl</td>\n",
       "      <td>gene</td>\n",
       "      <td>17147</td>\n",
       "      <td>17169</td>\n",
       "      <td>.</td>\n",
       "      <td>+</td>\n",
       "      <td>.</td>\n",
       "      <td>protein_coding</td>\n",
       "      <td>ENSOPRG00000019122</td>\n",
       "      <td>NaN</td>\n",
       "      <td>22</td>\n",
       "    </tr>\n",
       "    <tr>\n",
       "      <th>4412</th>\n",
       "      <td>GeneScaffold_5267</td>\n",
       "      <td>ensembl</td>\n",
       "      <td>gene</td>\n",
       "      <td>144744</td>\n",
       "      <td>144758</td>\n",
       "      <td>.</td>\n",
       "      <td>-</td>\n",
       "      <td>.</td>\n",
       "      <td>protein_coding</td>\n",
       "      <td>ENSOPRG00000019159</td>\n",
       "      <td>NaN</td>\n",
       "      <td>14</td>\n",
       "    </tr>\n",
       "  </tbody>\n",
       "</table>\n",
       "</div>"
      ],
      "text/plain": [
       "                 seqname   source feature   start     end score strand frame  \\\n",
       "22305     scaffold_54497  ensembl    gene    3310    3340     .      +     .   \n",
       "7113        scaffold_531  ensembl    gene  379791  379821     .      -     .   \n",
       "4871   GeneScaffold_2514  ensembl    gene  500411  500441     .      -     .   \n",
       "19594     scaffold_16208  ensembl    gene   27177   27205     .      +     .   \n",
       "16168      scaffold_4952  ensembl    gene   84231   84257     .      +     .   \n",
       "6095   GeneScaffold_3947  ensembl    gene  171411  171436     .      +     .   \n",
       "6286        scaffold_817  ensembl    gene  160387  160412     .      +     .   \n",
       "16063      scaffold_6958  ensembl    gene   88799   88824     .      -     .   \n",
       "15012  GeneScaffold_3968  ensembl    gene   17147   17169     .      +     .   \n",
       "4412   GeneScaffold_5267  ensembl    gene  144744  144758     .      -     .   \n",
       "\n",
       "         gene_biotype             gene_id gene_name  gene_size  \n",
       "22305            rRNA  ENSOPRG00000023875   5S_rRNA         30  \n",
       "7113             rRNA  ENSOPRG00000023787   5S_rRNA         30  \n",
       "4871             rRNA  ENSOPRG00000023763   5S_rRNA         30  \n",
       "19594            rRNA  ENSOPRG00000023013   5S_rRNA         28  \n",
       "16168  protein_coding  ENSOPRG00000018795       NaN         26  \n",
       "6095             rRNA  ENSOPRG00000023054   5S_rRNA         25  \n",
       "6286             rRNA  ENSOPRG00000022737   5S_rRNA         25  \n",
       "16063            rRNA  ENSOPRG00000022588   5S_rRNA         25  \n",
       "15012  protein_coding  ENSOPRG00000019122       NaN         22  \n",
       "4412   protein_coding  ENSOPRG00000019159       NaN         14  "
      ]
     },
     "execution_count": 45,
     "metadata": {},
     "output_type": "execute_result"
    }
   ],
   "source": [
    "genes.sort_values([\"gene_size\"], ascending = False).tail(10)"
   ]
  },
  {
   "cell_type": "markdown",
   "metadata": {},
   "source": [
    "### Pocet genu"
   ]
  },
  {
   "cell_type": "code",
   "execution_count": 46,
   "metadata": {
    "collapsed": false
   },
   "outputs": [
    {
     "data": {
      "text/plain": [
       "23065"
      ]
     },
     "execution_count": 46,
     "metadata": {},
     "output_type": "execute_result"
    }
   ],
   "source": [
    "len(genes[\"gene_id\"].unique())"
   ]
  },
  {
   "cell_type": "markdown",
   "metadata": {},
   "source": [
    "### Pocet charakterizovanych sekvenci"
   ]
  },
  {
   "cell_type": "code",
   "execution_count": 47,
   "metadata": {
    "collapsed": false
   },
   "outputs": [
    {
     "data": {
      "text/plain": [
       "10916"
      ]
     },
     "execution_count": 47,
     "metadata": {},
     "output_type": "execute_result"
    }
   ],
   "source": [
    "len(genes[\"seqname\"].unique())"
   ]
  },
  {
   "cell_type": "markdown",
   "metadata": {},
   "source": [
    "### Kolik genu se nachazi na jakem retezci?"
   ]
  },
  {
   "cell_type": "code",
   "execution_count": 48,
   "metadata": {
    "collapsed": false
   },
   "outputs": [
    {
     "data": {
      "text/plain": [
       "+    11685\n",
       "-    11380\n",
       "Name: strand, dtype: int64"
      ]
     },
     "execution_count": 48,
     "metadata": {},
     "output_type": "execute_result"
    }
   ],
   "source": [
    "genes[\"strand\"].value_counts()"
   ]
  },
  {
   "cell_type": "markdown",
   "metadata": {},
   "source": [
    "### Kolik je genu bez nazvu (NaN)?"
   ]
  },
  {
   "cell_type": "code",
   "execution_count": 49,
   "metadata": {
    "collapsed": false
   },
   "outputs": [
    {
     "data": {
      "text/plain": [
       "5086"
      ]
     },
     "execution_count": 49,
     "metadata": {},
     "output_type": "execute_result"
    }
   ],
   "source": [
    "genes[\"gene_name\"].isnull().values.sum()"
   ]
  },
  {
   "cell_type": "markdown",
   "metadata": {},
   "source": [
    "### Distribuce velikosti genu"
   ]
  },
  {
   "cell_type": "code",
   "execution_count": 50,
   "metadata": {
    "collapsed": false
   },
   "outputs": [
    {
     "data": {
      "text/plain": [
       "<matplotlib.text.Text at 0x8924a98c>"
      ]
     },
     "execution_count": 50,
     "metadata": {},
     "output_type": "execute_result"
    },
    {
     "data": {
      "image/png": "[encoded data removed]",
      "text/plain": [
       "<matplotlib.figure.Figure at 0x893e024c>"
      ]
     },
     "metadata": {},
     "output_type": "display_data"
    }
   ],
   "source": [
    "genes[\"gene_size\"].hist(bins=2000)\n",
    "pl.xscale('log')\n",
    "pl.suptitle(\"Distribuce velikosti genu\")"
   ]
  },
  {
   "cell_type": "markdown",
   "metadata": {},
   "source": [
    "## Analyza \"transcripts\""
   ]
  },
  {
   "cell_type": "markdown",
   "metadata": {},
   "source": [
    "### Kolik je transkriptu celkem?"
   ]
  },
  {
   "cell_type": "code",
   "execution_count": 51,
   "metadata": {
    "collapsed": false
   },
   "outputs": [
    {
     "data": {
      "text/plain": [
       "23065"
      ]
     },
     "execution_count": 51,
     "metadata": {},
     "output_type": "execute_result"
    }
   ],
   "source": [
    "transcripts[\"transcript_id\"].value_counts().sum()"
   ]
  },
  {
   "cell_type": "markdown",
   "metadata": {},
   "source": [
    "### Kolik transkriptu nema nazev?"
   ]
  },
  {
   "cell_type": "code",
   "execution_count": 52,
   "metadata": {
    "collapsed": false
   },
   "outputs": [
    {
     "data": {
      "text/plain": [
       "5086"
      ]
     },
     "execution_count": 52,
     "metadata": {},
     "output_type": "execute_result"
    }
   ],
   "source": [
    "transcripts[\"transcript_name\"].isnull().values.sum()"
   ]
  },
  {
   "cell_type": "markdown",
   "metadata": {},
   "source": [
    "![](https://lh3.googleusercontent.com/-Sgwt5PHgt5k/U60XL-IKJ4I/AAAAAAAAFH4/dvLQsuT8uws/w1600-h1063/American_Pika.jpg)"
   ]
  },
  {
   "cell_type": "code",
   "execution_count": null,
   "metadata": {
    "collapsed": true
   },
   "outputs": [],
   "source": []
  }
 ],
 "metadata": {
  "kernelspec": {
   "display_name": "Python 3",
   "language": "python",
   "name": "python3"
  },
  "language_info": {
   "codemirror_mode": {
    "name": "ipython",
    "version": 3
   },
   "file_extension": ".py",
   "mimetype": "text/x-python",
   "name": "python",
   "nbconvert_exporter": "python",
   "pygments_lexer": "ipython3",
   "version": "3.5.2"
  }
 },
 "nbformat": 4,
 "nbformat_minor": 1
}
